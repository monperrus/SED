{
 "cells": [
  {
   "cell_type": "code",
   "execution_count": 1,
   "metadata": {},
   "outputs": [],
   "source": [
    "import os\n",
    "import re\n",
    "import json\n",
    "import matplotlib.pyplot as plt\n",
    "import matplotlib as mpl\n",
    "import pandas as pd\n",
    "import numpy as np\n",
    "import glob\n",
    "import editdistance\n",
    "from collections import Counter\n",
    "\n",
    "from tqdm import notebook as tqdm\n",
    "import sys; sys.path.insert(0, \"..\")\n",
    "from program_synthesis.analysis.load_results import *\n",
    "from program_synthesis.analysis.organize_results import *\n",
    "from program_synthesis.analysis.models_to_analyze import model_labels\n",
    "cycle = plt.rcParams['axes.prop_cycle'].by_key()['color']"
   ]
  },
  {
   "cell_type": "code",
   "execution_count": 2,
   "metadata": {},
   "outputs": [],
   "source": [
    "%matplotlib inline\n",
    "%load_ext autoreload\n",
    "%autoreload 2"
   ]
  },
  {
   "cell_type": "code",
   "execution_count": 3,
   "metadata": {
    "scrolled": true
   },
   "outputs": [
    {
     "name": "stdout",
     "output_type": "stream",
     "text": [
      "vanilla\n"
     ]
    },
    {
     "data": {
      "application/vnd.jupyter.widget-view+json": {
       "model_id": "22a7137cd0b147e48c39adbcf028388a",
       "version_major": 2,
       "version_minor": 0
      },
      "text/plain": [
       "HBox(children=(FloatProgress(value=0.0, max=5167.0), HTML(value='')))"
      ]
     },
     "metadata": {},
     "output_type": "display_data"
    },
    {
     "name": "stdout",
     "output_type": "stream",
     "text": [
      "\n",
      "aggregate-with-io\n"
     ]
    },
    {
     "data": {
      "application/vnd.jupyter.widget-view+json": {
       "model_id": "66649230835c4c3da6124f512137536a",
       "version_major": 2,
       "version_minor": 0
      },
      "text/plain": [
       "HBox(children=(FloatProgress(value=0.0, max=3135.0), HTML(value='')))"
      ]
     },
     "metadata": {},
     "output_type": "display_data"
    },
    {
     "name": "stdout",
     "output_type": "stream",
     "text": [
      "\n",
      "vanilla-real-nearai-finetuned-1e-4\n"
     ]
    },
    {
     "data": {
      "application/vnd.jupyter.widget-view+json": {
       "model_id": "32e7be46eb0349b9b98dc06c3590a51d",
       "version_major": 2,
       "version_minor": 0
      },
      "text/plain": [
       "HBox(children=(FloatProgress(value=0.0, max=3040.0), HTML(value='')))"
      ]
     },
     "metadata": {},
     "output_type": "display_data"
    },
    {
     "name": "stdout",
     "output_type": "stream",
     "text": [
      "\n",
      "aggregate-with-io-real-nearai-finetuned-1e-4\n"
     ]
    },
    {
     "data": {
      "application/vnd.jupyter.widget-view+json": {
       "model_id": "03aefb456cf4468f92ea85d4131b011b",
       "version_major": 2,
       "version_minor": 0
      },
      "text/plain": [
       "HBox(children=(FloatProgress(value=0.0, max=3199.0), HTML(value='')))"
      ]
     },
     "metadata": {},
     "output_type": "display_data"
    },
    {
     "name": "stdout",
     "output_type": "stream",
     "text": [
      "\n",
      "vanilla-many-mutations\n"
     ]
    },
    {
     "data": {
      "application/vnd.jupyter.widget-view+json": {
       "model_id": "56c9f8981f79419ba5c5bca803e43639",
       "version_major": 2,
       "version_minor": 0
      },
      "text/plain": [
       "HBox(children=(FloatProgress(value=0.0, max=2077.0), HTML(value='')))"
      ]
     },
     "metadata": {},
     "output_type": "display_data"
    },
    {
     "name": "stdout",
     "output_type": "stream",
     "text": [
      "\n",
      "aggregate-with-io-many-mutations\n"
     ]
    },
    {
     "data": {
      "application/vnd.jupyter.widget-view+json": {
       "model_id": "3254090aa2c34055b3ec66c3c50e44de",
       "version_major": 2,
       "version_minor": 0
      },
      "text/plain": [
       "HBox(children=(FloatProgress(value=0.0, max=1267.0), HTML(value='')))"
      ]
     },
     "metadata": {},
     "output_type": "display_data"
    },
    {
     "name": "stdout",
     "output_type": "stream",
     "text": [
      "\n",
      "vanilla-real-nearai32-finetuned-1e-4\n"
     ]
    },
    {
     "data": {
      "application/vnd.jupyter.widget-view+json": {
       "model_id": "30e1e21820e248ca932c18b727c0da61",
       "version_major": 2,
       "version_minor": 0
      },
      "text/plain": [
       "HBox(children=(FloatProgress(value=0.0, max=1312.0), HTML(value='')))"
      ]
     },
     "metadata": {},
     "output_type": "display_data"
    },
    {
     "name": "stdout",
     "output_type": "stream",
     "text": [
      "\n",
      "aggregate-with-io-real-nearai32-finetuned-1e-4\n"
     ]
    },
    {
     "data": {
      "application/vnd.jupyter.widget-view+json": {
       "model_id": "84e4e6e6daac47ef9dc4f8f39b8d3b7c",
       "version_major": 2,
       "version_minor": 0
      },
      "text/plain": [
       "HBox(children=(FloatProgress(value=0.0, max=1581.0), HTML(value='')))"
      ]
     },
     "metadata": {},
     "output_type": "display_data"
    },
    {
     "name": "stdout",
     "output_type": "stream",
     "text": [
      "\n",
      "vanilla,h,327\n"
     ]
    },
    {
     "data": {
      "application/vnd.jupyter.widget-view+json": {
       "model_id": "b905a7b86d004353ae92fc9427048845",
       "version_major": 2,
       "version_minor": 0
      },
      "text/plain": [
       "HBox(children=(FloatProgress(value=0.0, max=584.0), HTML(value='')))"
      ]
     },
     "metadata": {},
     "output_type": "display_data"
    },
    {
     "name": "stdout",
     "output_type": "stream",
     "text": [
      "\n",
      "vanilla,h,327,finetuned-nearai-1e-4\n"
     ]
    },
    {
     "data": {
      "application/vnd.jupyter.widget-view+json": {
       "model_id": "2f3c126bb2f5475495da17b5e417e183",
       "version_major": 2,
       "version_minor": 0
      },
      "text/plain": [
       "HBox(children=(FloatProgress(value=0.0, max=832.0), HTML(value='')))"
      ]
     },
     "metadata": {},
     "output_type": "display_data"
    },
    {
     "name": "stdout",
     "output_type": "stream",
     "text": [
      "\n",
      "vanilla,h,327,finetuned-nearai32-1e-4\n"
     ]
    },
    {
     "data": {
      "application/vnd.jupyter.widget-view+json": {
       "model_id": "821374fec596495ab9d6712a819c9061",
       "version_major": 2,
       "version_minor": 0
      },
      "text/plain": [
       "HBox(children=(FloatProgress(value=0.0, max=752.0), HTML(value='')))"
      ]
     },
     "metadata": {},
     "output_type": "display_data"
    },
    {
     "name": "stdout",
     "output_type": "stream",
     "text": [
      "\n"
     ]
    }
   ],
   "source": [
    "accuracies = [table_of_accuracies(x, pbar=tqdm.tqdm) for x in model_labels]\n",
    "accuracies = pd.concat(accuracies)"
   ]
  },
  {
   "cell_type": "code",
   "execution_count": 4,
   "metadata": {
    "scrolled": true
   },
   "outputs": [],
   "source": [
    "real_acs = get_for_baseline_models(accuracies, \"nearai\", \"nearai32\", \"egnps64\", \"egnpsgood\")"
   ]
  },
  {
   "cell_type": "code",
   "execution_count": 5,
   "metadata": {
    "scrolled": true
   },
   "outputs": [
    {
     "data": {
      "text/html": [
       "<div>\n",
       "<style scoped>\n",
       "    .dataframe tbody tr th:only-of-type {\n",
       "        vertical-align: middle;\n",
       "    }\n",
       "\n",
       "    .dataframe tbody tr th {\n",
       "        vertical-align: top;\n",
       "    }\n",
       "\n",
       "    .dataframe thead th {\n",
       "        text-align: right;\n",
       "    }\n",
       "</style>\n",
       "<table border=\"1\" class=\"dataframe\">\n",
       "  <thead>\n",
       "    <tr style=\"text-align: right;\">\n",
       "      <th></th>\n",
       "      <th>Model</th>\n",
       "      <th>Step</th>\n",
       "      <th>DataLabel</th>\n",
       "      <th>Accuracy</th>\n",
       "      <th>Exact</th>\n",
       "    </tr>\n",
       "  </thead>\n",
       "  <tbody>\n",
       "    <tr>\n",
       "      <th>1156</th>\n",
       "      <td>aggregate-with-io-real-nearai-finetuned-1e-4</td>\n",
       "      <td>10100</td>\n",
       "      <td>egnpsgood,,best_first,,100,,start-with-beams</td>\n",
       "      <td>0.8944</td>\n",
       "      <td>0.4352</td>\n",
       "    </tr>\n",
       "    <tr>\n",
       "      <th>713</th>\n",
       "      <td>aggregate-with-io-real-nearai32-finetuned-1e-4</td>\n",
       "      <td>11000</td>\n",
       "      <td>egnpsgood,,best_first,,100,,start-with-beams</td>\n",
       "      <td>0.8948</td>\n",
       "      <td>0.4340</td>\n",
       "    </tr>\n",
       "    <tr>\n",
       "      <th>1040</th>\n",
       "      <td>aggregate-with-io-real-nearai-finetuned-1e-4</td>\n",
       "      <td>160100</td>\n",
       "      <td>egnpsgood,,best_first,,100,,start-with-beams</td>\n",
       "      <td>0.8948</td>\n",
       "      <td>0.4360</td>\n",
       "    </tr>\n",
       "    <tr>\n",
       "      <th>105</th>\n",
       "      <td>aggregate-with-io-real-nearai-finetuned-1e-4</td>\n",
       "      <td>260100</td>\n",
       "      <td>egnpsgood,,best_first,,100,,start-with-beams</td>\n",
       "      <td>0.8948</td>\n",
       "      <td>0.4352</td>\n",
       "    </tr>\n",
       "    <tr>\n",
       "      <th>287</th>\n",
       "      <td>aggregate-with-io-real-nearai32-finetuned-1e-4</td>\n",
       "      <td>21000</td>\n",
       "      <td>egnpsgood,,greedy,,100,,start-with-beams</td>\n",
       "      <td>0.8948</td>\n",
       "      <td>0.4344</td>\n",
       "    </tr>\n",
       "    <tr>\n",
       "      <th>1180</th>\n",
       "      <td>vanilla-real-nearai-finetuned-1e-4</td>\n",
       "      <td>60100</td>\n",
       "      <td>egnpsgood,,greedy,,100,,start-with-beams</td>\n",
       "      <td>0.8948</td>\n",
       "      <td>0.4352</td>\n",
       "    </tr>\n",
       "    <tr>\n",
       "      <th>259</th>\n",
       "      <td>aggregate-with-io-real-nearai32-finetuned-1e-4</td>\n",
       "      <td>71000</td>\n",
       "      <td>egnpsgood,,best_first,,100,,start-with-beams</td>\n",
       "      <td>0.8948</td>\n",
       "      <td>0.4348</td>\n",
       "    </tr>\n",
       "    <tr>\n",
       "      <th>590</th>\n",
       "      <td>aggregate-with-io-real-nearai-finetuned-1e-4</td>\n",
       "      <td>210100</td>\n",
       "      <td>egnpsgood,,greedy,,100,,start-with-beams</td>\n",
       "      <td>0.8948</td>\n",
       "      <td>0.4352</td>\n",
       "    </tr>\n",
       "    <tr>\n",
       "      <th>100</th>\n",
       "      <td>aggregate-with-io-real-nearai-finetuned-1e-4</td>\n",
       "      <td>260100</td>\n",
       "      <td>egnpsgood,,greedy,,100,,start-with-beams</td>\n",
       "      <td>0.8952</td>\n",
       "      <td>0.4344</td>\n",
       "    </tr>\n",
       "    <tr>\n",
       "      <th>50</th>\n",
       "      <td>aggregate-with-io-real-nearai-finetuned-1e-4</td>\n",
       "      <td>110100</td>\n",
       "      <td>egnpsgood,,greedy,,100,,start-with-beams</td>\n",
       "      <td>0.8952</td>\n",
       "      <td>0.4368</td>\n",
       "    </tr>\n",
       "    <tr>\n",
       "      <th>243</th>\n",
       "      <td>aggregate-with-io-real-nearai32-finetuned-1e-4</td>\n",
       "      <td>21000</td>\n",
       "      <td>egnpsgood,,best_first,,100,,start-with-beams</td>\n",
       "      <td>0.8952</td>\n",
       "      <td>0.4344</td>\n",
       "    </tr>\n",
       "    <tr>\n",
       "      <th>431</th>\n",
       "      <td>vanilla-real-nearai32-finetuned-1e-4</td>\n",
       "      <td>41000</td>\n",
       "      <td>egnpsgood,,best_first,,100,,start-with-beams</td>\n",
       "      <td>0.8952</td>\n",
       "      <td>0.4344</td>\n",
       "    </tr>\n",
       "    <tr>\n",
       "      <th>297</th>\n",
       "      <td>aggregate-with-io-real-nearai32-finetuned-1e-4</td>\n",
       "      <td>11000</td>\n",
       "      <td>egnpsgood,,greedy,,100,,start-with-beams</td>\n",
       "      <td>0.8952</td>\n",
       "      <td>0.4344</td>\n",
       "    </tr>\n",
       "    <tr>\n",
       "      <th>254</th>\n",
       "      <td>aggregate-with-io-real-nearai32-finetuned-1e-4</td>\n",
       "      <td>61000</td>\n",
       "      <td>egnpsgood,,greedy,,100,,start-with-beams</td>\n",
       "      <td>0.8952</td>\n",
       "      <td>0.4344</td>\n",
       "    </tr>\n",
       "    <tr>\n",
       "      <th>584</th>\n",
       "      <td>vanilla-real-nearai32-finetuned-1e-4</td>\n",
       "      <td>11000</td>\n",
       "      <td>egnpsgood,,best_first,,50,,start-with-beams</td>\n",
       "      <td>0.8952</td>\n",
       "      <td>0.4344</td>\n",
       "    </tr>\n",
       "    <tr>\n",
       "      <th>351</th>\n",
       "      <td>aggregate-with-io-real-nearai32-finetuned-1e-4</td>\n",
       "      <td>61000</td>\n",
       "      <td>egnpsgood,,best_first,,100,,start-with-beams</td>\n",
       "      <td>0.8952</td>\n",
       "      <td>0.4348</td>\n",
       "    </tr>\n",
       "    <tr>\n",
       "      <th>418</th>\n",
       "      <td>aggregate-with-io-real-nearai-finetuned-1e-4</td>\n",
       "      <td>210100</td>\n",
       "      <td>egnpsgood,,best_first,,100,,start-with-beams</td>\n",
       "      <td>0.8956</td>\n",
       "      <td>0.4364</td>\n",
       "    </tr>\n",
       "    <tr>\n",
       "      <th>1093</th>\n",
       "      <td>vanilla-real-nearai-finetuned-1e-4</td>\n",
       "      <td>10100</td>\n",
       "      <td>egnpsgood,,best_first,,100,,start-with-beams</td>\n",
       "      <td>0.8956</td>\n",
       "      <td>0.4352</td>\n",
       "    </tr>\n",
       "    <tr>\n",
       "      <th>103</th>\n",
       "      <td>vanilla-real-nearai-finetuned-1e-4</td>\n",
       "      <td>260100</td>\n",
       "      <td>egnpsgood,,best_first,,100,,start-with-beams</td>\n",
       "      <td>0.8956</td>\n",
       "      <td>0.4364</td>\n",
       "    </tr>\n",
       "    <tr>\n",
       "      <th>254</th>\n",
       "      <td>vanilla-real-nearai-finetuned-1e-4</td>\n",
       "      <td>60100</td>\n",
       "      <td>egnpsgood,,best_first,,100,,start-with-beams</td>\n",
       "      <td>0.8956</td>\n",
       "      <td>0.4352</td>\n",
       "    </tr>\n",
       "    <tr>\n",
       "      <th>984</th>\n",
       "      <td>vanilla-real-nearai-finetuned-1e-4</td>\n",
       "      <td>160100</td>\n",
       "      <td>egnpsgood,,best_first,,100,,start-with-beams</td>\n",
       "      <td>0.8960</td>\n",
       "      <td>0.4360</td>\n",
       "    </tr>\n",
       "    <tr>\n",
       "      <th>396</th>\n",
       "      <td>vanilla-real-nearai-finetuned-1e-4</td>\n",
       "      <td>210100</td>\n",
       "      <td>egnpsgood,,best_first,,100,,start-with-beams</td>\n",
       "      <td>0.8960</td>\n",
       "      <td>0.4364</td>\n",
       "    </tr>\n",
       "    <tr>\n",
       "      <th>708</th>\n",
       "      <td>vanilla-real-nearai-finetuned-1e-4</td>\n",
       "      <td>110100</td>\n",
       "      <td>egnpsgood,,best_first,,100,,start-with-beams</td>\n",
       "      <td>0.8960</td>\n",
       "      <td>0.4356</td>\n",
       "    </tr>\n",
       "    <tr>\n",
       "      <th>295</th>\n",
       "      <td>vanilla-real-nearai32-finetuned-1e-4</td>\n",
       "      <td>61000</td>\n",
       "      <td>egnpsgood,,best_first,,100,,start-with-beams</td>\n",
       "      <td>0.8960</td>\n",
       "      <td>0.4348</td>\n",
       "    </tr>\n",
       "    <tr>\n",
       "      <th>222</th>\n",
       "      <td>vanilla-real-nearai32-finetuned-1e-4</td>\n",
       "      <td>71000</td>\n",
       "      <td>egnpsgood,,best_first,,100,,start-with-beams</td>\n",
       "      <td>0.8964</td>\n",
       "      <td>0.4348</td>\n",
       "    </tr>\n",
       "    <tr>\n",
       "      <th>161</th>\n",
       "      <td>vanilla-real-nearai32-finetuned-1e-4</td>\n",
       "      <td>51000</td>\n",
       "      <td>egnpsgood,,best_first,,100,,start-with-beams</td>\n",
       "      <td>0.8964</td>\n",
       "      <td>0.4344</td>\n",
       "    </tr>\n",
       "    <tr>\n",
       "      <th>207</th>\n",
       "      <td>vanilla-real-nearai32-finetuned-1e-4</td>\n",
       "      <td>21000</td>\n",
       "      <td>egnpsgood,,best_first,,100,,start-with-beams</td>\n",
       "      <td>0.8964</td>\n",
       "      <td>0.4340</td>\n",
       "    </tr>\n",
       "    <tr>\n",
       "      <th>247</th>\n",
       "      <td>vanilla-real-nearai32-finetuned-1e-4</td>\n",
       "      <td>81000</td>\n",
       "      <td>egnpsgood,,best_first,,100,,start-with-beams</td>\n",
       "      <td>0.8972</td>\n",
       "      <td>0.4348</td>\n",
       "    </tr>\n",
       "    <tr>\n",
       "      <th>27</th>\n",
       "      <td>vanilla-real-nearai32-finetuned-1e-4</td>\n",
       "      <td>91000</td>\n",
       "      <td>egnpsgood,,best_first,,100,,start-with-beams</td>\n",
       "      <td>0.8972</td>\n",
       "      <td>0.4344</td>\n",
       "    </tr>\n",
       "    <tr>\n",
       "      <th>593</th>\n",
       "      <td>vanilla-real-nearai32-finetuned-1e-4</td>\n",
       "      <td>11000</td>\n",
       "      <td>egnpsgood,,best_first,,100,,start-with-beams</td>\n",
       "      <td>0.8980</td>\n",
       "      <td>0.4344</td>\n",
       "    </tr>\n",
       "  </tbody>\n",
       "</table>\n",
       "</div>"
      ],
      "text/plain": [
       "                                               Model    Step  \\\n",
       "1156    aggregate-with-io-real-nearai-finetuned-1e-4   10100   \n",
       "713   aggregate-with-io-real-nearai32-finetuned-1e-4   11000   \n",
       "1040    aggregate-with-io-real-nearai-finetuned-1e-4  160100   \n",
       "105     aggregate-with-io-real-nearai-finetuned-1e-4  260100   \n",
       "287   aggregate-with-io-real-nearai32-finetuned-1e-4   21000   \n",
       "1180              vanilla-real-nearai-finetuned-1e-4   60100   \n",
       "259   aggregate-with-io-real-nearai32-finetuned-1e-4   71000   \n",
       "590     aggregate-with-io-real-nearai-finetuned-1e-4  210100   \n",
       "100     aggregate-with-io-real-nearai-finetuned-1e-4  260100   \n",
       "50      aggregate-with-io-real-nearai-finetuned-1e-4  110100   \n",
       "243   aggregate-with-io-real-nearai32-finetuned-1e-4   21000   \n",
       "431             vanilla-real-nearai32-finetuned-1e-4   41000   \n",
       "297   aggregate-with-io-real-nearai32-finetuned-1e-4   11000   \n",
       "254   aggregate-with-io-real-nearai32-finetuned-1e-4   61000   \n",
       "584             vanilla-real-nearai32-finetuned-1e-4   11000   \n",
       "351   aggregate-with-io-real-nearai32-finetuned-1e-4   61000   \n",
       "418     aggregate-with-io-real-nearai-finetuned-1e-4  210100   \n",
       "1093              vanilla-real-nearai-finetuned-1e-4   10100   \n",
       "103               vanilla-real-nearai-finetuned-1e-4  260100   \n",
       "254               vanilla-real-nearai-finetuned-1e-4   60100   \n",
       "984               vanilla-real-nearai-finetuned-1e-4  160100   \n",
       "396               vanilla-real-nearai-finetuned-1e-4  210100   \n",
       "708               vanilla-real-nearai-finetuned-1e-4  110100   \n",
       "295             vanilla-real-nearai32-finetuned-1e-4   61000   \n",
       "222             vanilla-real-nearai32-finetuned-1e-4   71000   \n",
       "161             vanilla-real-nearai32-finetuned-1e-4   51000   \n",
       "207             vanilla-real-nearai32-finetuned-1e-4   21000   \n",
       "247             vanilla-real-nearai32-finetuned-1e-4   81000   \n",
       "27              vanilla-real-nearai32-finetuned-1e-4   91000   \n",
       "593             vanilla-real-nearai32-finetuned-1e-4   11000   \n",
       "\n",
       "                                         DataLabel  Accuracy   Exact  \n",
       "1156  egnpsgood,,best_first,,100,,start-with-beams    0.8944  0.4352  \n",
       "713   egnpsgood,,best_first,,100,,start-with-beams    0.8948  0.4340  \n",
       "1040  egnpsgood,,best_first,,100,,start-with-beams    0.8948  0.4360  \n",
       "105   egnpsgood,,best_first,,100,,start-with-beams    0.8948  0.4352  \n",
       "287       egnpsgood,,greedy,,100,,start-with-beams    0.8948  0.4344  \n",
       "1180      egnpsgood,,greedy,,100,,start-with-beams    0.8948  0.4352  \n",
       "259   egnpsgood,,best_first,,100,,start-with-beams    0.8948  0.4348  \n",
       "590       egnpsgood,,greedy,,100,,start-with-beams    0.8948  0.4352  \n",
       "100       egnpsgood,,greedy,,100,,start-with-beams    0.8952  0.4344  \n",
       "50        egnpsgood,,greedy,,100,,start-with-beams    0.8952  0.4368  \n",
       "243   egnpsgood,,best_first,,100,,start-with-beams    0.8952  0.4344  \n",
       "431   egnpsgood,,best_first,,100,,start-with-beams    0.8952  0.4344  \n",
       "297       egnpsgood,,greedy,,100,,start-with-beams    0.8952  0.4344  \n",
       "254       egnpsgood,,greedy,,100,,start-with-beams    0.8952  0.4344  \n",
       "584    egnpsgood,,best_first,,50,,start-with-beams    0.8952  0.4344  \n",
       "351   egnpsgood,,best_first,,100,,start-with-beams    0.8952  0.4348  \n",
       "418   egnpsgood,,best_first,,100,,start-with-beams    0.8956  0.4364  \n",
       "1093  egnpsgood,,best_first,,100,,start-with-beams    0.8956  0.4352  \n",
       "103   egnpsgood,,best_first,,100,,start-with-beams    0.8956  0.4364  \n",
       "254   egnpsgood,,best_first,,100,,start-with-beams    0.8956  0.4352  \n",
       "984   egnpsgood,,best_first,,100,,start-with-beams    0.8960  0.4360  \n",
       "396   egnpsgood,,best_first,,100,,start-with-beams    0.8960  0.4364  \n",
       "708   egnpsgood,,best_first,,100,,start-with-beams    0.8960  0.4356  \n",
       "295   egnpsgood,,best_first,,100,,start-with-beams    0.8960  0.4348  \n",
       "222   egnpsgood,,best_first,,100,,start-with-beams    0.8964  0.4348  \n",
       "161   egnpsgood,,best_first,,100,,start-with-beams    0.8964  0.4344  \n",
       "207   egnpsgood,,best_first,,100,,start-with-beams    0.8964  0.4340  \n",
       "247   egnpsgood,,best_first,,100,,start-with-beams    0.8972  0.4348  \n",
       "27    egnpsgood,,best_first,,100,,start-with-beams    0.8972  0.4344  \n",
       "593   egnpsgood,,best_first,,100,,start-with-beams    0.8980  0.4344  "
      ]
     },
     "execution_count": 5,
     "metadata": {},
     "output_type": "execute_result"
    }
   ],
   "source": [
    "real_acs.sort_values('Accuracy').iloc[-30:]"
   ]
  },
  {
   "cell_type": "code",
   "execution_count": 6,
   "metadata": {
    "scrolled": true
   },
   "outputs": [
    {
     "name": "stdout",
     "output_type": "stream",
     "text": [
      "vanilla,h,327,finetuned-nearai-1e-4 nearai,,greedy,,200\n",
      "vanilla,h,327,finetuned-nearai-1e-4 nearai,,best_first,,200\n",
      "aggregate-with-io-many-mutations nearai,,greedy,,50\n",
      "aggregate-with-io-many-mutations nearai,,greedy,,100\n",
      "aggregate-with-io-many-mutations nearai,,greedy,,200\n",
      "aggregate-with-io-many-mutations nearai,,best_first,,50\n",
      "aggregate-with-io-many-mutations nearai,,best_first,,100\n",
      "aggregate-with-io-many-mutations nearai,,best_first,,200\n",
      "vanilla-many-mutations nearai,,greedy,,50\n",
      "vanilla-many-mutations nearai,,greedy,,100\n",
      "vanilla-many-mutations nearai,,greedy,,200\n",
      "vanilla-many-mutations nearai,,best_first,,50\n",
      "vanilla-many-mutations nearai,,best_first,,100\n",
      "vanilla-many-mutations nearai,,best_first,,200\n",
      "vanilla,h,327 nearai,,greedy,,200\n",
      "vanilla,h,327 nearai,,best_first,,200\n",
      "vanilla,h,327,finetuned-nearai32-1e-4 nearai,,greedy,,200\n",
      "vanilla,h,327,finetuned-nearai32-1e-4 nearai,,best_first,,200\n",
      "vanilla,h,327,finetuned-nearai-1e-4 nearai32,,greedy,,200,,start-with-beams\n",
      "vanilla,h,327,finetuned-nearai-1e-4 nearai32,,best_first,,200,,start-with-beams\n",
      "aggregate-with-io-many-mutations nearai32,,greedy,,5,,start-with-beams\n",
      "aggregate-with-io-many-mutations nearai32,,greedy,,10,,start-with-beams\n",
      "aggregate-with-io-many-mutations nearai32,,greedy,,25,,start-with-beams\n",
      "aggregate-with-io-many-mutations nearai32,,greedy,,50,,start-with-beams\n",
      "aggregate-with-io-many-mutations nearai32,,greedy,,100,,start-with-beams\n",
      "aggregate-with-io-many-mutations nearai32,,greedy,,200,,start-with-beams\n",
      "aggregate-with-io-many-mutations nearai32,,best_first,,50,,start-with-beams\n",
      "aggregate-with-io-many-mutations nearai32,,best_first,,100,,start-with-beams\n",
      "aggregate-with-io-many-mutations nearai32,,best_first,,200,,start-with-beams\n",
      "vanilla-many-mutations nearai32,,greedy,,5,,start-with-beams\n",
      "vanilla-many-mutations nearai32,,greedy,,10,,start-with-beams\n",
      "vanilla-many-mutations nearai32,,greedy,,25,,start-with-beams\n",
      "vanilla-many-mutations nearai32,,greedy,,50,,start-with-beams\n",
      "vanilla-many-mutations nearai32,,greedy,,100,,start-with-beams\n",
      "vanilla-many-mutations nearai32,,greedy,,200,,start-with-beams\n",
      "vanilla-many-mutations nearai32,,best_first,,50,,start-with-beams\n",
      "vanilla-many-mutations nearai32,,best_first,,100,,start-with-beams\n",
      "vanilla-many-mutations nearai32,,best_first,,200,,start-with-beams\n",
      "vanilla,h,327 nearai32,,greedy,,100,,start-with-beams\n",
      "vanilla,h,327 nearai32,,greedy,,200,,start-with-beams\n",
      "vanilla,h,327 nearai32,,best_first,,200,,start-with-beams\n",
      "vanilla,h,327,finetuned-nearai32-1e-4 nearai32,,greedy,,200,,start-with-beams\n",
      "vanilla,h,327,finetuned-nearai32-1e-4 nearai32,,best_first,,200,,start-with-beams\n",
      "vanilla,h,327,finetuned-nearai-1e-4 egnps64,,greedy,,200,,start-with-beams\n",
      "vanilla,h,327,finetuned-nearai-1e-4 egnps64,,best_first,,200,,start-with-beams\n",
      "aggregate-with-io-many-mutations egnps64,,best_first,,1,,start-with-beams\n",
      "aggregate-with-io-many-mutations egnps64,,greedy,,5,,start-with-beams\n",
      "aggregate-with-io-many-mutations egnps64,,greedy,,10,,start-with-beams\n",
      "aggregate-with-io-many-mutations egnps64,,greedy,,25,,start-with-beams\n",
      "aggregate-with-io-many-mutations egnps64,,greedy,,50,,start-with-beams\n",
      "aggregate-with-io-many-mutations egnps64,,greedy,,100,,start-with-beams\n",
      "aggregate-with-io-many-mutations egnps64,,greedy,,200,,start-with-beams\n",
      "aggregate-with-io-many-mutations egnps64,,best_first,,1,,start-with-beams\n",
      "aggregate-with-io-many-mutations egnps64,,best_first,,5,,start-with-beams\n",
      "aggregate-with-io-many-mutations egnps64,,best_first,,10,,start-with-beams\n",
      "aggregate-with-io-many-mutations egnps64,,best_first,,25,,start-with-beams\n",
      "aggregate-with-io-many-mutations egnps64,,best_first,,50,,start-with-beams\n",
      "aggregate-with-io-many-mutations egnps64,,best_first,,100,,start-with-beams\n",
      "aggregate-with-io-many-mutations egnps64,,best_first,,200,,start-with-beams\n",
      "vanilla-many-mutations egnps64,,best_first,,1,,start-with-beams\n",
      "vanilla-many-mutations egnps64,,greedy,,5,,start-with-beams\n",
      "vanilla-many-mutations egnps64,,greedy,,10,,start-with-beams\n",
      "vanilla-many-mutations egnps64,,greedy,,25,,start-with-beams\n",
      "vanilla-many-mutations egnps64,,greedy,,50,,start-with-beams\n",
      "vanilla-many-mutations egnps64,,greedy,,100,,start-with-beams\n",
      "vanilla-many-mutations egnps64,,greedy,,200,,start-with-beams\n",
      "vanilla-many-mutations egnps64,,best_first,,1,,start-with-beams\n",
      "vanilla-many-mutations egnps64,,best_first,,5,,start-with-beams\n",
      "vanilla-many-mutations egnps64,,best_first,,10,,start-with-beams\n",
      "vanilla-many-mutations egnps64,,best_first,,25,,start-with-beams\n",
      "vanilla-many-mutations egnps64,,best_first,,50,,start-with-beams\n",
      "vanilla-many-mutations egnps64,,best_first,,100,,start-with-beams\n",
      "vanilla-many-mutations egnps64,,best_first,,200,,start-with-beams\n",
      "vanilla,h,327 egnps64,,greedy,,200,,start-with-beams\n",
      "vanilla,h,327 egnps64,,best_first,,200,,start-with-beams\n",
      "vanilla,h,327,finetuned-nearai32-1e-4 egnps64,,greedy,,200,,start-with-beams\n",
      "vanilla,h,327,finetuned-nearai32-1e-4 egnps64,,best_first,,200,,start-with-beams\n",
      "vanilla,h,327,finetuned-nearai-1e-4 egnpsgood,,best_first,,1,,start-with-beams\n",
      "vanilla,h,327,finetuned-nearai-1e-4 egnpsgood,,greedy,,5,,start-with-beams\n",
      "vanilla,h,327,finetuned-nearai-1e-4 egnpsgood,,greedy,,10,,start-with-beams\n",
      "vanilla,h,327,finetuned-nearai-1e-4 egnpsgood,,greedy,,25,,start-with-beams\n",
      "vanilla,h,327,finetuned-nearai-1e-4 egnpsgood,,greedy,,50,,start-with-beams\n",
      "vanilla,h,327,finetuned-nearai-1e-4 egnpsgood,,greedy,,100,,start-with-beams\n",
      "vanilla,h,327,finetuned-nearai-1e-4 egnpsgood,,greedy,,200,,start-with-beams\n",
      "vanilla,h,327,finetuned-nearai-1e-4 egnpsgood,,best_first,,1,,start-with-beams\n",
      "vanilla,h,327,finetuned-nearai-1e-4 egnpsgood,,best_first,,5,,start-with-beams\n",
      "vanilla,h,327,finetuned-nearai-1e-4 egnpsgood,,best_first,,10,,start-with-beams\n",
      "vanilla,h,327,finetuned-nearai-1e-4 egnpsgood,,best_first,,25,,start-with-beams\n",
      "vanilla,h,327,finetuned-nearai-1e-4 egnpsgood,,best_first,,50,,start-with-beams\n",
      "vanilla,h,327,finetuned-nearai-1e-4 egnpsgood,,best_first,,100,,start-with-beams\n",
      "vanilla,h,327,finetuned-nearai-1e-4 egnpsgood,,best_first,,200,,start-with-beams\n",
      "vanilla,h,327,finetuned-nearai-1e-4 egnpsgood\n",
      "aggregate-with-io egnpsgood,,greedy,,200,,start-with-beams\n",
      "aggregate-with-io egnpsgood,,best_first,,200,,start-with-beams\n",
      "vanilla-real-nearai32-finetuned-1e-4 egnpsgood,,greedy,,200,,start-with-beams\n",
      "vanilla-real-nearai32-finetuned-1e-4 egnpsgood,,best_first,,200,,start-with-beams\n",
      "aggregate-with-io-real-nearai32-finetuned-1e-4 egnpsgood,,greedy,,200,,start-with-beams\n",
      "aggregate-with-io-real-nearai32-finetuned-1e-4 egnpsgood,,best_first,,200,,start-with-beams\n",
      "aggregate-with-io-many-mutations egnpsgood,,best_first,,1,,start-with-beams\n",
      "aggregate-with-io-many-mutations egnpsgood,,greedy,,5,,start-with-beams\n",
      "aggregate-with-io-many-mutations egnpsgood,,greedy,,10,,start-with-beams\n",
      "aggregate-with-io-many-mutations egnpsgood,,greedy,,25,,start-with-beams\n",
      "aggregate-with-io-many-mutations egnpsgood,,greedy,,50,,start-with-beams\n",
      "aggregate-with-io-many-mutations egnpsgood,,greedy,,100,,start-with-beams\n",
      "aggregate-with-io-many-mutations egnpsgood,,greedy,,200,,start-with-beams\n",
      "aggregate-with-io-many-mutations egnpsgood,,best_first,,1,,start-with-beams\n",
      "aggregate-with-io-many-mutations egnpsgood,,best_first,,5,,start-with-beams\n",
      "aggregate-with-io-many-mutations egnpsgood,,best_first,,10,,start-with-beams\n",
      "aggregate-with-io-many-mutations egnpsgood,,best_first,,25,,start-with-beams\n",
      "aggregate-with-io-many-mutations egnpsgood,,best_first,,50,,start-with-beams\n",
      "aggregate-with-io-many-mutations egnpsgood,,best_first,,100,,start-with-beams\n",
      "aggregate-with-io-many-mutations egnpsgood,,best_first,,200,,start-with-beams\n",
      "aggregate-with-io-many-mutations egnpsgood\n",
      "vanilla-real-nearai-finetuned-1e-4 egnpsgood,,greedy,,200,,start-with-beams\n",
      "vanilla-real-nearai-finetuned-1e-4 egnpsgood,,best_first,,200,,start-with-beams\n",
      "aggregate-with-io-real-nearai-finetuned-1e-4 egnpsgood,,greedy,,200,,start-with-beams\n",
      "aggregate-with-io-real-nearai-finetuned-1e-4 egnpsgood,,best_first,,200,,start-with-beams\n",
      "vanilla-many-mutations egnpsgood,,best_first,,1,,start-with-beams\n",
      "vanilla-many-mutations egnpsgood,,greedy,,5,,start-with-beams\n",
      "vanilla-many-mutations egnpsgood,,greedy,,10,,start-with-beams\n",
      "vanilla-many-mutations egnpsgood,,greedy,,25,,start-with-beams\n",
      "vanilla-many-mutations egnpsgood,,greedy,,50,,start-with-beams\n",
      "vanilla-many-mutations egnpsgood,,greedy,,100,,start-with-beams\n",
      "vanilla-many-mutations egnpsgood,,greedy,,200,,start-with-beams\n",
      "vanilla-many-mutations egnpsgood,,best_first,,1,,start-with-beams\n",
      "vanilla-many-mutations egnpsgood,,best_first,,5,,start-with-beams\n",
      "vanilla-many-mutations egnpsgood,,best_first,,10,,start-with-beams\n",
      "vanilla-many-mutations egnpsgood,,best_first,,25,,start-with-beams\n",
      "vanilla-many-mutations egnpsgood,,best_first,,50,,start-with-beams\n",
      "vanilla-many-mutations egnpsgood,,best_first,,100,,start-with-beams\n",
      "vanilla-many-mutations egnpsgood,,best_first,,200,,start-with-beams\n",
      "vanilla-many-mutations egnpsgood\n",
      "vanilla,h,327 egnpsgood,,best_first,,1,,start-with-beams\n",
      "vanilla,h,327 egnpsgood,,greedy,,5,,start-with-beams\n",
      "vanilla,h,327 egnpsgood,,greedy,,10,,start-with-beams\n",
      "vanilla,h,327 egnpsgood,,greedy,,25,,start-with-beams\n",
      "vanilla,h,327 egnpsgood,,greedy,,50,,start-with-beams\n",
      "vanilla,h,327 egnpsgood,,greedy,,100,,start-with-beams\n",
      "vanilla,h,327 egnpsgood,,greedy,,200,,start-with-beams\n",
      "vanilla,h,327 egnpsgood,,best_first,,1,,start-with-beams\n",
      "vanilla,h,327 egnpsgood,,best_first,,5,,start-with-beams\n",
      "vanilla,h,327 egnpsgood,,best_first,,10,,start-with-beams\n",
      "vanilla,h,327 egnpsgood,,best_first,,25,,start-with-beams\n",
      "vanilla,h,327 egnpsgood,,best_first,,50,,start-with-beams\n",
      "vanilla,h,327 egnpsgood,,best_first,,100,,start-with-beams\n",
      "vanilla,h,327 egnpsgood,,best_first,,200,,start-with-beams\n",
      "vanilla,h,327 egnpsgood\n",
      "vanilla egnpsgood,,greedy,,200,,start-with-beams\n",
      "vanilla egnpsgood,,best_first,,200,,start-with-beams\n",
      "vanilla,h,327,finetuned-nearai32-1e-4 egnpsgood,,best_first,,1,,start-with-beams\n",
      "vanilla,h,327,finetuned-nearai32-1e-4 egnpsgood,,greedy,,5,,start-with-beams\n",
      "vanilla,h,327,finetuned-nearai32-1e-4 egnpsgood,,greedy,,10,,start-with-beams\n",
      "vanilla,h,327,finetuned-nearai32-1e-4 egnpsgood,,greedy,,25,,start-with-beams\n",
      "vanilla,h,327,finetuned-nearai32-1e-4 egnpsgood,,greedy,,50,,start-with-beams\n",
      "vanilla,h,327,finetuned-nearai32-1e-4 egnpsgood,,greedy,,100,,start-with-beams\n",
      "vanilla,h,327,finetuned-nearai32-1e-4 egnpsgood,,greedy,,200,,start-with-beams\n",
      "vanilla,h,327,finetuned-nearai32-1e-4 egnpsgood,,best_first,,1,,start-with-beams\n"
     ]
    },
    {
     "name": "stdout",
     "output_type": "stream",
     "text": [
      "vanilla,h,327,finetuned-nearai32-1e-4 egnpsgood,,best_first,,5,,start-with-beams\n",
      "vanilla,h,327,finetuned-nearai32-1e-4 egnpsgood,,best_first,,10,,start-with-beams\n",
      "vanilla,h,327,finetuned-nearai32-1e-4 egnpsgood,,best_first,,25,,start-with-beams\n",
      "vanilla,h,327,finetuned-nearai32-1e-4 egnpsgood,,best_first,,50,,start-with-beams\n",
      "vanilla,h,327,finetuned-nearai32-1e-4 egnpsgood,,best_first,,100,,start-with-beams\n",
      "vanilla,h,327,finetuned-nearai32-1e-4 egnpsgood,,best_first,,200,,start-with-beams\n",
      "vanilla,h,327,finetuned-nearai32-1e-4 egnpsgood\n"
     ]
    }
   ],
   "source": [
    "topline = separate_strategies(real_acs)\n",
    "topline.to_csv(\"/home/kavigupta/topline.csv\")"
   ]
  },
  {
   "cell_type": "code",
   "execution_count": 7,
   "metadata": {},
   "outputs": [],
   "source": [
    "topline_by_k = by_k(topline)\n",
    "topline_by_k.to_csv('/home/kavigupta/topline_by_k.csv')"
   ]
  },
  {
   "cell_type": "code",
   "execution_count": 8,
   "metadata": {},
   "outputs": [],
   "source": [
    "just_max_step = by_max_step(accuracies)"
   ]
  },
  {
   "cell_type": "code",
   "execution_count": 9,
   "metadata": {
    "scrolled": true
   },
   "outputs": [],
   "source": [
    "def get_accuracies(model, data_source, data_label=None):\n",
    "    selected_rows = (accuracies.Model == model) & (accuracies.DataSource == data_source)\n",
    "    if data_label is not None:\n",
    "        selected_rows &= accuracies.DataLabel == data_label\n",
    "    return accuracies[selected_rows].pivot(index='Step', columns='DataLabel', values='Accuracy')\n",
    "def plot_combined_accuracy(table, label, allowed_cols=None):\n",
    "    if not table.index.size:\n",
    "        return\n",
    "    cols = sorted(table.columns)\n",
    "    if allowed_cols is not None:\n",
    "        cols = sorted(set(cols) & set(allowed_cols))\n",
    "    result = sum(table[col] for col in cols) * 100 / len(cols)\n",
    "    plt.plot(result, \".-\", label=label)\n",
    "    plt.xlabel(\"Step\")\n",
    "    plt.ylabel(\"Accuracy [%]\")\n",
    "    plt.legend()"
   ]
  },
  {
   "cell_type": "code",
   "execution_count": 11,
   "metadata": {},
   "outputs": [],
   "source": [
    "def get_errors_by_k(topline, synthesizer, use_trace, finetune, strategy):\n",
    "    model = {True: \"aggregate-with-io\", False: \"vanilla\"}[use_trace]\n",
    "    if finetune:\n",
    "        model += f\"-real-{'nearai32' if synthesizer.startswith('egnps') else synthesizer}-finetuned-1e-4\"\n",
    "    errors = []\n",
    "    for k in K_VALS:\n",
    "        res = topline[\n",
    "            (topline.model == model)\n",
    "                & (topline.strategy == strategy)\n",
    "                & (topline.synthesizer == synthesizer)\n",
    "                & (topline['debugger steps'] == k)]\n",
    "        count = len(list(res.iterrows()))\n",
    "        assert count <= 1\n",
    "        if count == 0:\n",
    "            print(model, strategy, synthesizer, k)\n",
    "            errors.append((float('nan'), float('nan')))\n",
    "        else:\n",
    "            errors.append((res.iloc[0]['gen error'], res.iloc[0]['exact error']))\n",
    "    return errors\n",
    "def generalization_errors(topline, synthesizer, use_trace, finetune, strategy, max_k=100):\n",
    "    errs = get_errors_by_k(topline, synthesizer, use_trace, finetune, strategy)\n",
    "    errs = errs[:1 + K_VALS.index(max_k)]\n",
    "    errs = [x for x, _ in errs]\n",
    "    return errs"
   ]
  },
  {
   "cell_type": "code",
   "execution_count": 12,
   "metadata": {},
   "outputs": [],
   "source": [
    "def display_errors(total, exact):\n",
    "    if np.isnan(total) or np.isnan(exact):\n",
    "        return \"-\"\n",
    "    def display_error(x):\n",
    "        return \"{:.2f}%\".format(x)\n",
    "    return \"{} ({})\".format(display_error(total), display_error(exact))"
   ]
  },
  {
   "cell_type": "code",
   "execution_count": 13,
   "metadata": {},
   "outputs": [],
   "source": [
    "SYNTHESIZERS = \"nearai\", \"nearai32\", \"egnpsgood\""
   ]
  },
  {
   "cell_type": "code",
   "execution_count": 14,
   "metadata": {
    "scrolled": true
   },
   "outputs": [
    {
     "name": "stdout",
     "output_type": "stream",
     "text": [
      "vanilla B egnpsgood 200\n",
      "vanilla-real-nearai32-finetuned-1e-4 B egnpsgood 200\n",
      "aggregate-with-io B egnpsgood 200\n",
      "aggregate-with-io-real-nearai32-finetuned-1e-4 B egnpsgood 200\n"
     ]
    }
   ],
   "source": [
    "k = 100\n",
    "columns = [\"Synthesizer\", \"Without Debugger\", \"No TraceEmbed+No Finetune\", \"No TraceEmbed+Finetune\", \"TraceEmbed+No Finetune\", \"TraceEmbed+Finetune\"]\n",
    "df = []\n",
    "for synthesizer in SYNTHESIZERS:\n",
    "    row = [to_display_name(synthesizer)]\n",
    "    segment = \"val\" if synthesizer != \"egnpsgood\" else \"test\"\n",
    "    row.append(display_errors(\n",
    "        100 * (1 - get_baseline_stats(synthesizer, segment=segment)['correct'] / 2500),\n",
    "        100 * (1 - get_baseline_stats(synthesizer, segment=segment)['exact'] / 2500),\n",
    "    ))\n",
    "    for trace in False, True:\n",
    "        for finetune in False, True:\n",
    "            total, exact = get_errors_by_k(topline, synthesizer, trace, finetune, \"B\")[K_VALS.index(k)]\n",
    "            row.append(display_errors(total, exact))\n",
    "    df.append(row)\n",
    "df = pd.DataFrame(df, columns=columns)\n",
    "df = df.set_index(\"Synthesizer\")"
   ]
  },
  {
   "cell_type": "code",
   "execution_count": 15,
   "metadata": {},
   "outputs": [
    {
     "data": {
      "text/html": [
       "<div>\n",
       "<style scoped>\n",
       "    .dataframe tbody tr th:only-of-type {\n",
       "        vertical-align: middle;\n",
       "    }\n",
       "\n",
       "    .dataframe tbody tr th {\n",
       "        vertical-align: top;\n",
       "    }\n",
       "\n",
       "    .dataframe thead th {\n",
       "        text-align: right;\n",
       "    }\n",
       "</style>\n",
       "<table border=\"1\" class=\"dataframe\">\n",
       "  <thead>\n",
       "    <tr style=\"text-align: right;\">\n",
       "      <th>Synthesizer</th>\n",
       "      <th>LGRL-GD</th>\n",
       "      <th>LGRL</th>\n",
       "      <th>EGNPS</th>\n",
       "    </tr>\n",
       "  </thead>\n",
       "  <tbody>\n",
       "    <tr>\n",
       "      <th>Without Debugger</th>\n",
       "      <td>39.00% (65.72%)</td>\n",
       "      <td>22.00% (63.40%)</td>\n",
       "      <td>12.64% (56.76%)</td>\n",
       "    </tr>\n",
       "    <tr>\n",
       "      <th>No TraceEmbed+No Finetune</th>\n",
       "      <td>18.56% (62.84%)</td>\n",
       "      <td>14.88% (62.72%)</td>\n",
       "      <td>10.68% (56.64%)</td>\n",
       "    </tr>\n",
       "    <tr>\n",
       "      <th>No TraceEmbed+Finetune</th>\n",
       "      <td>16.12% (60.88%)</td>\n",
       "      <td>14.32% (62.48%)</td>\n",
       "      <td>10.20% (56.56%)</td>\n",
       "    </tr>\n",
       "    <tr>\n",
       "      <th>TraceEmbed+No Finetune</th>\n",
       "      <td>18.68% (63.84%)</td>\n",
       "      <td>14.60% (62.88%)</td>\n",
       "      <td>10.68% (56.56%)</td>\n",
       "    </tr>\n",
       "    <tr>\n",
       "      <th>TraceEmbed+Finetune</th>\n",
       "      <td>16.12% (61.16%)</td>\n",
       "      <td>14.28% (62.68%)</td>\n",
       "      <td>10.48% (56.52%)</td>\n",
       "    </tr>\n",
       "  </tbody>\n",
       "</table>\n",
       "</div>"
      ],
      "text/plain": [
       "Synthesizer                        LGRL-GD             LGRL            EGNPS\n",
       "Without Debugger           39.00% (65.72%)  22.00% (63.40%)  12.64% (56.76%)\n",
       "No TraceEmbed+No Finetune  18.56% (62.84%)  14.88% (62.72%)  10.68% (56.64%)\n",
       "No TraceEmbed+Finetune     16.12% (60.88%)  14.32% (62.48%)  10.20% (56.56%)\n",
       "TraceEmbed+No Finetune     18.68% (63.84%)  14.60% (62.88%)  10.68% (56.56%)\n",
       "TraceEmbed+Finetune        16.12% (61.16%)  14.28% (62.68%)  10.48% (56.52%)"
      ]
     },
     "execution_count": 15,
     "metadata": {},
     "output_type": "execute_result"
    }
   ],
   "source": [
    "df.T"
   ]
  },
  {
   "cell_type": "code",
   "execution_count": 16,
   "metadata": {},
   "outputs": [
    {
     "name": "stdout",
     "output_type": "stream",
     "text": [
      "\\begin{tabular}{llll}\n",
      "\\toprule\n",
      "Synthesizer &          LGRL-GD &             LGRL &            EGNPS \\\\\n",
      "\\midrule\n",
      "Without Debugger          &  39.00\\% (65.72\\%) &  22.00\\% (63.40\\%) &  12.64\\% (56.76\\%) \\\\\n",
      "No TraceEmbed+No Finetune &  18.56\\% (62.84\\%) &  14.88\\% (62.72\\%) &  10.68\\% (56.64\\%) \\\\\n",
      "No TraceEmbed+Finetune    &  16.12\\% (60.88\\%) &  14.32\\% (62.48\\%) &  10.20\\% (56.56\\%) \\\\\n",
      "TraceEmbed+No Finetune    &  18.68\\% (63.84\\%) &  14.60\\% (62.88\\%) &  10.68\\% (56.56\\%) \\\\\n",
      "TraceEmbed+Finetune       &  16.12\\% (61.16\\%) &  14.28\\% (62.68\\%) &  10.48\\% (56.52\\%) \\\\\n",
      "\\bottomrule\n",
      "\\end{tabular}\n",
      "\n"
     ]
    }
   ],
   "source": [
    "print(df.T.to_latex())"
   ]
  },
  {
   "cell_type": "code",
   "execution_count": 17,
   "metadata": {},
   "outputs": [
    {
     "name": "stdout",
     "output_type": "stream",
     "text": [
      "aggregate-with-io-real-nearai32-finetuned-1e-4 B egnpsgood 200\n",
      "aggregate-with-io-real-nearai32-finetuned-1e-4 G egnpsgood 200\n"
     ]
    },
    {
     "data": {
      "image/png": "[encoded data removed]",
      "text/plain": [
       "<Figure size 720x216 with 3 Axes>"
      ]
     },
     "metadata": {
      "needs_background": "light"
     },
     "output_type": "display_data"
    }
   ],
   "source": [
    "fig, axs = plt.subplots(1, 3, figsize=(10, 3), constrained_layout=True)\n",
    "for ax, synthesizer in zip(axs, SYNTHESIZERS):\n",
    "    ax.plot(K_VALS[:-1], generalization_errors(\n",
    "        topline, synthesizer, True, True, \"B\"), marker='*',\n",
    "            label=\"Best First\")\n",
    "    ax.plot(K_VALS[:-1], generalization_errors(\n",
    "        topline, synthesizer, True, True, \"G\"), marker='*',\n",
    "            label=\"Greedy\")\n",
    "    ax.set_title(to_display_name(synthesizer))\n",
    "    ax.set_xlabel(\"Number of editing steps\")\n",
    "    ax.set_ylabel(\"Generalization Error [%]\")\n",
    "    ax.set_xscale('log')\n",
    "    ax.set_xticks(K_VALS[:-1])\n",
    "    ax.get_xaxis().set_major_formatter(mpl.ticker.ScalarFormatter())\n",
    "axs[0].legend()\n",
    "fig.suptitle(\"Search Strategy Comparison\")\n",
    "plt.savefig(\"img/search_strategy_compare.png\")"
   ]
  },
  {
   "cell_type": "code",
   "execution_count": 18,
   "metadata": {},
   "outputs": [
    {
     "name": "stdout",
     "output_type": "stream",
     "text": [
      "aggregate-with-io B egnpsgood 200\n",
      "vanilla B egnpsgood 200\n"
     ]
    },
    {
     "data": {
      "image/png": "[encoded data removed]",
      "text/plain": [
       "<Figure size 720x216 with 3 Axes>"
      ]
     },
     "metadata": {
      "needs_background": "light"
     },
     "output_type": "display_data"
    }
   ],
   "source": [
    "fig, axs = plt.subplots(1, 3, figsize=(10, 3), constrained_layout=True)\n",
    "for ax, synthesizer in zip(axs, SYNTHESIZERS):\n",
    "    if synthesizer.startswith(\"nearai\"):\n",
    "        ax.plot(K_VALS[:-1], generalization_errors(\n",
    "            topline, synthesizer, True, True, \"B\"), marker='*', color=cycle[0],\n",
    "                label=\"TE+F\")\n",
    "        ax.plot(K_VALS[:-1], generalization_errors(\n",
    "            topline, synthesizer, False, True, \"B\"), marker='*', linestyle='--', color=cycle[0],\n",
    "                label=\"No TE+F\")\n",
    "    ax.plot(K_VALS[:-1], generalization_errors(\n",
    "        topline, synthesizer, True, False, \"B\"), marker='*', color=cycle[1],\n",
    "            label=\"TE+No F\")\n",
    "    ax.plot(K_VALS[:-1], generalization_errors(\n",
    "        topline, synthesizer, False, False, \"B\"), marker='*', linestyle='--', color=cycle[1],\n",
    "            label=\"No TE+No F\")\n",
    "    ax.set_title(to_display_name(synthesizer))\n",
    "    ax.set_xlabel(\"Number of editing steps\")\n",
    "    ax.set_ylabel(\"Generalization Error [%]\")\n",
    "    ax.set_xscale('log')\n",
    "    ax.set_xticks(K_VALS[:-1])\n",
    "    ax.get_xaxis().set_major_formatter(mpl.ticker.ScalarFormatter())\n",
    "axs[0].legend()\n",
    "# fig.suptitle(\"Finetuning Comparison\")\n",
    "plt.savefig(\"img/arch_finetune_compare.png\")"
   ]
  },
  {
   "cell_type": "code",
   "execution_count": 19,
   "metadata": {},
   "outputs": [],
   "source": [
    "# # temporary for thesis draft\n",
    "# plt.figure(figsize=(7, 5))\n",
    "# plt.title(\"Val Results on Mutation Dataset\")\n",
    "# for model in \"vanilla\", \"aggregate-standard\", \"aggregate-with-io\":\n",
    "#     plot_combined_accuracy(get_accuracies(model, 'eval'), model.replace('-', ' ').title())\n",
    "\n",
    "# plt.xlim(5 * 10 ** 4, 10 ** 6)\n",
    "# plt.ylabel(\"% of programs that pass all given test cases\")\n",
    "# plt.show()"
   ]
  },
  {
   "cell_type": "code",
   "execution_count": 20,
   "metadata": {},
   "outputs": [],
   "source": [
    "# # temporary for thesis draft\n",
    "# plt.figure(figsize=(7, 5))\n",
    "# plt.title(\"Val Results on Mutation Dataset\")\n",
    "# for model in model_labels:\n",
    "#     if \"finetuned\" in model and \"1e-4\" in model:\n",
    "#         plot_combined_accuracy(get_accuracies(model, 'eval'), model.replace('-', ' ').title())\n",
    "\n",
    "# plt.ylabel(\"% of programs that pass all given test cases\")\n",
    "# plt.show()\n",
    "# plt.figure(figsize=(7, 5))\n",
    "# plt.title(\"Val Results on Real Dataset\")\n",
    "# for model in model_labels:\n",
    "#     if \"finetuned\" in model and \"1e-4\" in model:\n",
    "#         plot_combined_accuracy(get_accuracies(model, 'real', 'nearai'), model.replace('-', ' ').title())\n",
    "\n",
    "# plt.ylabel(\"% of programs that pass all given test cases\")\n",
    "# plt.show()"
   ]
  },
  {
   "cell_type": "code",
   "execution_count": 21,
   "metadata": {},
   "outputs": [],
   "source": [
    "acs = accuracies\n",
    "acs = by_max_acc(acs)\n",
    "df = []\n",
    "by_config = {}\n",
    "by_config_ex = {}\n",
    "for arch in \"aggregate-with-io\", \"vanilla\":\n",
    "    for many_mutations in True, False:\n",
    "        model = arch + \"-many-mutations\" * many_mutations\n",
    "        gen_errors = []\n",
    "        exact_errors = []\n",
    "        for mut in range(1, 6):\n",
    "            label = \",\".join('0' * (mut - 1) + '1')\n",
    "            row = acs[(acs.DataSource == 'eval') & (acs.Model == model) & (acs.DataLabel == label)]\n",
    "            count = list(row.iterrows())\n",
    "            assert len(count) <= 1\n",
    "            if count == 0:\n",
    "                res = float('nan'), float('nan')\n",
    "            else:\n",
    "                res = 100 * (1 - row.iloc[0].Accuracy), 100 * (1 - row.iloc[0].Exact)\n",
    "            gen_errors.append(res[0])\n",
    "            exact_errors.append(res[1])\n",
    "            df.append([arch == \"aggregate-with-io\", many_mutations, mut, *res])\n",
    "        by_config[arch==\"aggregate-with-io\", many_mutations] = gen_errors\n",
    "        by_config_ex[arch==\"aggregate-with-io\", many_mutations] = exact_errors\n",
    "df = pd.DataFrame(df, columns=[\"Trace?\", \"5 muts?\", \"# eval muts\", \"Gen Error\", \"Exact Error\"])"
   ]
  },
  {
   "cell_type": "code",
   "execution_count": 52,
   "metadata": {},
   "outputs": [],
   "source": [
    "def bar_chart_with_numbers(ax, xs, ys, width, *, label, color, **kwargs):\n",
    "    ax.bar(xs, ys, width, label=label, color=color, **kwargs)\n",
    "    for x, y in zip(xs, ys):\n",
    "        ax.text(x - width * 0.3, y + 2, \"{:.1f}\".format(y), color=color, rotation=90, size=8, fontweight='bold')"
   ]
  },
  {
   "cell_type": "code",
   "execution_count": 58,
   "metadata": {},
   "outputs": [
    {
     "data": {
      "image/png": "[encoded data removed]",
      "text/plain": [
       "<Figure size 576x288 with 2 Axes>"
      ]
     },
     "metadata": {
      "needs_background": "light"
     },
     "output_type": "display_data"
    }
   ],
   "source": [
    "kwargs = dict(hatch='xxx')\n",
    "fig, (ax1, ax2) = plt.subplots(1, 2, figsize=(8, 4), constrained_layout=1)\n",
    "bar_chart_with_numbers(ax1, np.arange(1, 6) - 0.3, by_config[False, False], 0.2, **kwargs,\n",
    "         label=\"No TraceEmbed 3\", color=cycle[0])\n",
    "bar_chart_with_numbers(ax1, np.arange(1, 6) - 0.1, by_config[False, True], 0.2, **kwargs,\n",
    "         label=\"No TraceEmbed 5\", color=cycle[1])\n",
    "bar_chart_with_numbers(ax1, np.arange(1, 6) + 0.1, by_config[True, False], 0.2,\n",
    "         label=\"TraceEmbed 3\", color=cycle[0])\n",
    "bar_chart_with_numbers(ax1, np.arange(1, 6) + 0.3, by_config[True, True], 0.2,\n",
    "         label=\"TraceEmbed 5\", color=cycle[1])\n",
    "ax1.legend()\n",
    "ax1.set_ylim(0, 40)\n",
    "ax1.set_xticks(range(1, 6))\n",
    "ax1.set_xlabel(\"Number of Mutations\")\n",
    "ax1.set_ylabel(\"Generalization Error [%]\")\n",
    "\n",
    "bar_chart_with_numbers(ax2, np.arange(1, 6) - 0.3, by_config_ex[False, False], 0.2, **kwargs,\n",
    "         label=\"No TraceEmbed on 3\", color=cycle[0])\n",
    "bar_chart_with_numbers(ax2, np.arange(1, 6) - 0.1, by_config_ex[False, True], 0.2, **kwargs,\n",
    "         label=\"No TraceEmbed on 5\", color=cycle[1])\n",
    "bar_chart_with_numbers(ax2, np.arange(1, 6) + 0.1, by_config_ex[True, False], 0.2,\n",
    "         label=\"TraceEmbed on 3\", color=cycle[0])\n",
    "bar_chart_with_numbers(ax2, np.arange(1, 6) + 0.3, by_config_ex[True, True], 0.2,\n",
    "         label=\"TraceEmbed on 5\", color=cycle[1])\n",
    "ax2.set_ylim(0, 75)\n",
    "ax2.set_xticks(range(1, 6))\n",
    "ax2.set_xlabel(\"Number of Mutations\")\n",
    "ax2.set_ylabel(\"Exact Error [%]\")\n",
    "fig.suptitle(\"Mutation Benchmark for Program Repair\")\n",
    "plt.savefig(\"img/program_repair_benchmark.png\", dpi=300, bbox_inches='tight')\n",
    "plt.show()"
   ]
  },
  {
   "cell_type": "code",
   "execution_count": null,
   "metadata": {},
   "outputs": [],
   "source": []
  },
  {
   "cell_type": "code",
   "execution_count": 24,
   "metadata": {},
   "outputs": [],
   "source": [
    "@lru_cache(None)\n",
    "def get_distances(eval_path):\n",
    "    with open(eval_path) as f:\n",
    "        results = [json.loads(line) for line in f][1:]\n",
    "    df = []\n",
    "    for r in results:\n",
    "        gold, ref, generated = r['example']['code'], r['example']['ref']['code'], r['code']['code_sequence']\n",
    "        correct = r['stats']['correct'] == 6\n",
    "        df.append([\n",
    "            editdistance.eval(gold, ref),\n",
    "            editdistance.eval(gold, generated),\n",
    "            editdistance.eval(generated, ref),\n",
    "            correct\n",
    "        ])\n",
    "    return pd.DataFrame(df, columns=[\"d(gold, ref)\", \"d(gold, pred)\", \"d(pred, ref)\", \"correct\"])"
   ]
  },
  {
   "cell_type": "code",
   "execution_count": 25,
   "metadata": {},
   "outputs": [],
   "source": [
    "path_fmt = \"../logdirs/aggregate-with-io,trace_enc==aggregate:conv_all_grids=True,batch_size==64,lr==1,lr_decay_steps=100000/report-dev-m{}-1000100-{}.jsonl\""
   ]
  },
  {
   "cell_type": "code",
   "execution_count": 26,
   "metadata": {},
   "outputs": [
    {
     "data": {
      "image/png": "[encoded data removed]",
      "text/plain": [
       "<Figure size 720x216 with 3 Axes>"
      ]
     },
     "metadata": {
      "needs_background": "light"
     },
     "output_type": "display_data"
    }
   ],
   "source": [
    "df = get_distances(path_fmt.format(\"nearai32,,best_first,,200,,start-with-beams\", \"real\"))\n",
    "fig, (ax3, ax1, ax2) = plt.subplots(1, 3, figsize=(10, 3), constrained_layout=True)\n",
    "ax1.scatter(\n",
    "    df[df.correct == 1]['d(pred, ref)'],\n",
    "    df[df.correct == 1]['d(gold, ref)'],\n",
    "    alpha=0.25\n",
    ")\n",
    "ax1.set_xlabel(\"d(init, pred)\")\n",
    "ax1.set_ylabel(\"d(init, gold)\")\n",
    "ax1.plot([0, 30], [0, 30], \"--\", color=\"black\")\n",
    "ax1.set_ylim(0, 50)\n",
    "ax1.set_xlim(0, 30)\n",
    "ax2.scatter(\n",
    "    df[df.correct == 1]['d(pred, ref)'],\n",
    "    df[df.correct == 1]['d(gold, pred)'],\n",
    "    alpha=0.25\n",
    ")\n",
    "ax2.set_xlabel(\"d(pred, init)\")\n",
    "ax2.set_ylabel(\"d(pred, gold)\")\n",
    "ax2.plot([0, 30], [0, 30], \"--\", color=\"black\")\n",
    "ax2.set_ylim(0, 50)\n",
    "ax2.set_xlim(0, 30)\n",
    "\n",
    "interval = 8\n",
    "maximum = 45\n",
    "for nmut in 1, 2, 3:\n",
    "    res = get_distances(path_fmt.format(\",\".join(\"0\" * nmut + \"1\"), \"eval\"))\n",
    "    res = res['d(gold, ref)']\n",
    "    counts = Counter([x // interval for x in res])\n",
    "    xvals = np.arange(0, maximum // interval) * interval + interval / 2\n",
    "    ax3.bar(\n",
    "        xvals + nmut - 1.5,\n",
    "        np.array([counts[x] for x in range(maximum // interval)]),\n",
    "        width=1,\n",
    "        label=\"{} mutation{}\".format(nmut, (nmut > 1) * \"s\"),\n",
    "    )\n",
    "ax3.legend()\n",
    "ax3.set_xlim(0, 40)\n",
    "ax3.set_xticks(xvals)\n",
    "ax3.set_xticklabels([\"{:.0f}-{:.0f}\".format(x - interval/2, x + interval/2 - 1) for x in xvals])\n",
    "ax3.set_xlabel(\"d(init, gold)\")\n",
    "ax3.set_ylabel(\"Frequency\")\n",
    "plt.savefig(\"img/mutations_info.png\")"
   ]
  },
  {
   "cell_type": "code",
   "execution_count": 40,
   "metadata": {},
   "outputs": [
    {
     "data": {
      "text/html": [
       "<div>\n",
       "<style scoped>\n",
       "    .dataframe tbody tr th:only-of-type {\n",
       "        vertical-align: middle;\n",
       "    }\n",
       "\n",
       "    .dataframe tbody tr th {\n",
       "        vertical-align: top;\n",
       "    }\n",
       "\n",
       "    .dataframe thead th {\n",
       "        text-align: right;\n",
       "    }\n",
       "</style>\n",
       "<table border=\"1\" class=\"dataframe\">\n",
       "  <thead>\n",
       "    <tr style=\"text-align: right;\">\n",
       "      <th></th>\n",
       "      <th>Model</th>\n",
       "      <th>Step</th>\n",
       "      <th>Accuracy</th>\n",
       "      <th>Total</th>\n",
       "      <th>Exact</th>\n",
       "      <th>DataSource</th>\n",
       "      <th>DataLabel</th>\n",
       "    </tr>\n",
       "  </thead>\n",
       "  <tbody>\n",
       "    <tr>\n",
       "      <th>8</th>\n",
       "      <td>vanilla,h,327</td>\n",
       "      <td>101000</td>\n",
       "      <td>0.6036</td>\n",
       "      <td>2500</td>\n",
       "      <td>0.3664</td>\n",
       "      <td>eval</td>\n",
       "      <td>0,0,0,0,1</td>\n",
       "    </tr>\n",
       "    <tr>\n",
       "      <th>15</th>\n",
       "      <td>vanilla,h,327</td>\n",
       "      <td>851000</td>\n",
       "      <td>0.9308</td>\n",
       "      <td>2500</td>\n",
       "      <td>0.7680</td>\n",
       "      <td>eval</td>\n",
       "      <td>1</td>\n",
       "    </tr>\n",
       "    <tr>\n",
       "      <th>19</th>\n",
       "      <td>vanilla,h,327</td>\n",
       "      <td>701000</td>\n",
       "      <td>0.9324</td>\n",
       "      <td>2500</td>\n",
       "      <td>0.7744</td>\n",
       "      <td>eval</td>\n",
       "      <td>1</td>\n",
       "    </tr>\n",
       "    <tr>\n",
       "      <th>29</th>\n",
       "      <td>vanilla,h,327</td>\n",
       "      <td>251000</td>\n",
       "      <td>0.9208</td>\n",
       "      <td>2500</td>\n",
       "      <td>0.7672</td>\n",
       "      <td>eval</td>\n",
       "      <td>0,1</td>\n",
       "    </tr>\n",
       "    <tr>\n",
       "      <th>30</th>\n",
       "      <td>vanilla,h,327</td>\n",
       "      <td>851000</td>\n",
       "      <td>0.5640</td>\n",
       "      <td>2500</td>\n",
       "      <td>0.3068</td>\n",
       "      <td>eval</td>\n",
       "      <td>0,0,0,0,1</td>\n",
       "    </tr>\n",
       "    <tr>\n",
       "      <th>55</th>\n",
       "      <td>vanilla,h,327</td>\n",
       "      <td>851000</td>\n",
       "      <td>0.6732</td>\n",
       "      <td>2500</td>\n",
       "      <td>0.4440</td>\n",
       "      <td>eval</td>\n",
       "      <td>0,0,0,1</td>\n",
       "    </tr>\n",
       "    <tr>\n",
       "      <th>58</th>\n",
       "      <td>vanilla,h,327</td>\n",
       "      <td>101000</td>\n",
       "      <td>0.9592</td>\n",
       "      <td>2500</td>\n",
       "      <td>0.8340</td>\n",
       "      <td>eval</td>\n",
       "      <td>1</td>\n",
       "    </tr>\n",
       "    <tr>\n",
       "      <th>80</th>\n",
       "      <td>vanilla,h,327</td>\n",
       "      <td>401000</td>\n",
       "      <td>0.9548</td>\n",
       "      <td>2500</td>\n",
       "      <td>0.8092</td>\n",
       "      <td>eval</td>\n",
       "      <td>1</td>\n",
       "    </tr>\n",
       "    <tr>\n",
       "      <th>82</th>\n",
       "      <td>vanilla,h,327</td>\n",
       "      <td>401000</td>\n",
       "      <td>0.5812</td>\n",
       "      <td>2500</td>\n",
       "      <td>0.3136</td>\n",
       "      <td>eval</td>\n",
       "      <td>0,0,0,0,1</td>\n",
       "    </tr>\n",
       "    <tr>\n",
       "      <th>86</th>\n",
       "      <td>vanilla,h,327</td>\n",
       "      <td>551000</td>\n",
       "      <td>0.9360</td>\n",
       "      <td>2500</td>\n",
       "      <td>0.7764</td>\n",
       "      <td>eval</td>\n",
       "      <td>1</td>\n",
       "    </tr>\n",
       "    <tr>\n",
       "      <th>87</th>\n",
       "      <td>vanilla,h,327</td>\n",
       "      <td>701000</td>\n",
       "      <td>0.8852</td>\n",
       "      <td>2500</td>\n",
       "      <td>0.7084</td>\n",
       "      <td>eval</td>\n",
       "      <td>0,1</td>\n",
       "    </tr>\n",
       "    <tr>\n",
       "      <th>121</th>\n",
       "      <td>vanilla,h,327</td>\n",
       "      <td>251000</td>\n",
       "      <td>0.7292</td>\n",
       "      <td>2500</td>\n",
       "      <td>0.5064</td>\n",
       "      <td>eval</td>\n",
       "      <td>0,0,0,1</td>\n",
       "    </tr>\n",
       "    <tr>\n",
       "      <th>135</th>\n",
       "      <td>vanilla,h,327</td>\n",
       "      <td>851000</td>\n",
       "      <td>0.8832</td>\n",
       "      <td>2500</td>\n",
       "      <td>0.7112</td>\n",
       "      <td>eval</td>\n",
       "      <td>0,1</td>\n",
       "    </tr>\n",
       "    <tr>\n",
       "      <th>149</th>\n",
       "      <td>vanilla,h,327</td>\n",
       "      <td>701000</td>\n",
       "      <td>0.5648</td>\n",
       "      <td>2500</td>\n",
       "      <td>0.3076</td>\n",
       "      <td>eval</td>\n",
       "      <td>0,0,0,0,1</td>\n",
       "    </tr>\n",
       "    <tr>\n",
       "      <th>152</th>\n",
       "      <td>vanilla,h,327</td>\n",
       "      <td>101000</td>\n",
       "      <td>0.9164</td>\n",
       "      <td>2500</td>\n",
       "      <td>0.7736</td>\n",
       "      <td>eval</td>\n",
       "      <td>0,1</td>\n",
       "    </tr>\n",
       "    <tr>\n",
       "      <th>153</th>\n",
       "      <td>vanilla,h,327</td>\n",
       "      <td>401000</td>\n",
       "      <td>0.7056</td>\n",
       "      <td>2500</td>\n",
       "      <td>0.4732</td>\n",
       "      <td>eval</td>\n",
       "      <td>0,0,0,1</td>\n",
       "    </tr>\n",
       "    <tr>\n",
       "      <th>158</th>\n",
       "      <td>vanilla,h,327</td>\n",
       "      <td>101000</td>\n",
       "      <td>0.7300</td>\n",
       "      <td>2500</td>\n",
       "      <td>0.5304</td>\n",
       "      <td>eval</td>\n",
       "      <td>0,0,0,1</td>\n",
       "    </tr>\n",
       "    <tr>\n",
       "      <th>165</th>\n",
       "      <td>vanilla,h,327</td>\n",
       "      <td>551000</td>\n",
       "      <td>0.8232</td>\n",
       "      <td>2500</td>\n",
       "      <td>0.6244</td>\n",
       "      <td>eval</td>\n",
       "      <td>0,0,1</td>\n",
       "    </tr>\n",
       "    <tr>\n",
       "      <th>171</th>\n",
       "      <td>vanilla,h,327</td>\n",
       "      <td>701000</td>\n",
       "      <td>0.6736</td>\n",
       "      <td>2500</td>\n",
       "      <td>0.4476</td>\n",
       "      <td>eval</td>\n",
       "      <td>0,0,0,1</td>\n",
       "    </tr>\n",
       "    <tr>\n",
       "      <th>173</th>\n",
       "      <td>vanilla,h,327</td>\n",
       "      <td>251000</td>\n",
       "      <td>0.8692</td>\n",
       "      <td>2500</td>\n",
       "      <td>0.6924</td>\n",
       "      <td>eval</td>\n",
       "      <td>0,0,1</td>\n",
       "    </tr>\n",
       "    <tr>\n",
       "      <th>189</th>\n",
       "      <td>vanilla,h,327</td>\n",
       "      <td>401000</td>\n",
       "      <td>0.9056</td>\n",
       "      <td>2500</td>\n",
       "      <td>0.7396</td>\n",
       "      <td>eval</td>\n",
       "      <td>0,1</td>\n",
       "    </tr>\n",
       "    <tr>\n",
       "      <th>192</th>\n",
       "      <td>vanilla,h,327</td>\n",
       "      <td>401000</td>\n",
       "      <td>0.8396</td>\n",
       "      <td>2500</td>\n",
       "      <td>0.6536</td>\n",
       "      <td>eval</td>\n",
       "      <td>0,0,1</td>\n",
       "    </tr>\n",
       "    <tr>\n",
       "      <th>196</th>\n",
       "      <td>vanilla,h,327</td>\n",
       "      <td>551000</td>\n",
       "      <td>0.8904</td>\n",
       "      <td>2500</td>\n",
       "      <td>0.7188</td>\n",
       "      <td>eval</td>\n",
       "      <td>0,1</td>\n",
       "    </tr>\n",
       "    <tr>\n",
       "      <th>198</th>\n",
       "      <td>vanilla,h,327</td>\n",
       "      <td>251000</td>\n",
       "      <td>0.9628</td>\n",
       "      <td>2500</td>\n",
       "      <td>0.8288</td>\n",
       "      <td>eval</td>\n",
       "      <td>1</td>\n",
       "    </tr>\n",
       "    <tr>\n",
       "      <th>200</th>\n",
       "      <td>vanilla,h,327</td>\n",
       "      <td>551000</td>\n",
       "      <td>0.5716</td>\n",
       "      <td>2500</td>\n",
       "      <td>0.3080</td>\n",
       "      <td>eval</td>\n",
       "      <td>0,0,0,0,1</td>\n",
       "    </tr>\n",
       "    <tr>\n",
       "      <th>207</th>\n",
       "      <td>vanilla,h,327</td>\n",
       "      <td>251000</td>\n",
       "      <td>0.5992</td>\n",
       "      <td>2500</td>\n",
       "      <td>0.3452</td>\n",
       "      <td>eval</td>\n",
       "      <td>0,0,0,0,1</td>\n",
       "    </tr>\n",
       "    <tr>\n",
       "      <th>209</th>\n",
       "      <td>vanilla,h,327</td>\n",
       "      <td>851000</td>\n",
       "      <td>0.8088</td>\n",
       "      <td>2500</td>\n",
       "      <td>0.6088</td>\n",
       "      <td>eval</td>\n",
       "      <td>0,0,1</td>\n",
       "    </tr>\n",
       "    <tr>\n",
       "      <th>214</th>\n",
       "      <td>vanilla,h,327</td>\n",
       "      <td>101000</td>\n",
       "      <td>0.8612</td>\n",
       "      <td>2500</td>\n",
       "      <td>0.6888</td>\n",
       "      <td>eval</td>\n",
       "      <td>0,0,1</td>\n",
       "    </tr>\n",
       "    <tr>\n",
       "      <th>227</th>\n",
       "      <td>vanilla,h,327</td>\n",
       "      <td>551000</td>\n",
       "      <td>0.6852</td>\n",
       "      <td>2500</td>\n",
       "      <td>0.4472</td>\n",
       "      <td>eval</td>\n",
       "      <td>0,0,0,1</td>\n",
       "    </tr>\n",
       "    <tr>\n",
       "      <th>243</th>\n",
       "      <td>vanilla,h,327</td>\n",
       "      <td>701000</td>\n",
       "      <td>0.8152</td>\n",
       "      <td>2500</td>\n",
       "      <td>0.6180</td>\n",
       "      <td>eval</td>\n",
       "      <td>0,0,1</td>\n",
       "    </tr>\n",
       "  </tbody>\n",
       "</table>\n",
       "</div>"
      ],
      "text/plain": [
       "             Model    Step  Accuracy  Total   Exact DataSource  DataLabel\n",
       "8    vanilla,h,327  101000    0.6036   2500  0.3664       eval  0,0,0,0,1\n",
       "15   vanilla,h,327  851000    0.9308   2500  0.7680       eval          1\n",
       "19   vanilla,h,327  701000    0.9324   2500  0.7744       eval          1\n",
       "29   vanilla,h,327  251000    0.9208   2500  0.7672       eval        0,1\n",
       "30   vanilla,h,327  851000    0.5640   2500  0.3068       eval  0,0,0,0,1\n",
       "55   vanilla,h,327  851000    0.6732   2500  0.4440       eval    0,0,0,1\n",
       "58   vanilla,h,327  101000    0.9592   2500  0.8340       eval          1\n",
       "80   vanilla,h,327  401000    0.9548   2500  0.8092       eval          1\n",
       "82   vanilla,h,327  401000    0.5812   2500  0.3136       eval  0,0,0,0,1\n",
       "86   vanilla,h,327  551000    0.9360   2500  0.7764       eval          1\n",
       "87   vanilla,h,327  701000    0.8852   2500  0.7084       eval        0,1\n",
       "121  vanilla,h,327  251000    0.7292   2500  0.5064       eval    0,0,0,1\n",
       "135  vanilla,h,327  851000    0.8832   2500  0.7112       eval        0,1\n",
       "149  vanilla,h,327  701000    0.5648   2500  0.3076       eval  0,0,0,0,1\n",
       "152  vanilla,h,327  101000    0.9164   2500  0.7736       eval        0,1\n",
       "153  vanilla,h,327  401000    0.7056   2500  0.4732       eval    0,0,0,1\n",
       "158  vanilla,h,327  101000    0.7300   2500  0.5304       eval    0,0,0,1\n",
       "165  vanilla,h,327  551000    0.8232   2500  0.6244       eval      0,0,1\n",
       "171  vanilla,h,327  701000    0.6736   2500  0.4476       eval    0,0,0,1\n",
       "173  vanilla,h,327  251000    0.8692   2500  0.6924       eval      0,0,1\n",
       "189  vanilla,h,327  401000    0.9056   2500  0.7396       eval        0,1\n",
       "192  vanilla,h,327  401000    0.8396   2500  0.6536       eval      0,0,1\n",
       "196  vanilla,h,327  551000    0.8904   2500  0.7188       eval        0,1\n",
       "198  vanilla,h,327  251000    0.9628   2500  0.8288       eval          1\n",
       "200  vanilla,h,327  551000    0.5716   2500  0.3080       eval  0,0,0,0,1\n",
       "207  vanilla,h,327  251000    0.5992   2500  0.3452       eval  0,0,0,0,1\n",
       "209  vanilla,h,327  851000    0.8088   2500  0.6088       eval      0,0,1\n",
       "214  vanilla,h,327  101000    0.8612   2500  0.6888       eval      0,0,1\n",
       "227  vanilla,h,327  551000    0.6852   2500  0.4472       eval    0,0,0,1\n",
       "243  vanilla,h,327  701000    0.8152   2500  0.6180       eval      0,0,1"
      ]
     },
     "execution_count": 40,
     "metadata": {},
     "output_type": "execute_result"
    }
   ],
   "source": [
    "accuracies[(accuracies.Model == \"vanilla,h,327\") & (accuracies.DataSource == \"eval\")]"
   ]
  },
  {
   "cell_type": "code",
   "execution_count": null,
   "metadata": {},
   "outputs": [],
   "source": []
  }
 ],
 "metadata": {
  "kernelspec": {
   "display_name": "Python 3",
   "language": "python",
   "name": "python3"
  },
  "language_info": {
   "codemirror_mode": {
    "name": "ipython",
    "version": 3
   },
   "file_extension": ".py",
   "mimetype": "text/x-python",
   "name": "python",
   "nbconvert_exporter": "python",
   "pygments_lexer": "ipython3",
   "version": "3.6.8"
  }
 },
 "nbformat": 4,
 "nbformat_minor": 4
}
