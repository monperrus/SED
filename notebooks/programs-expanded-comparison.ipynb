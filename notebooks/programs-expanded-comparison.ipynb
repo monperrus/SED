{
 "cells": [
  {
   "cell_type": "code",
   "execution_count": 1,
   "metadata": {},
   "outputs": [],
   "source": [
    "import sys\n",
    "sys.path.insert(0, \"..\")\n",
    "from os.path import expanduser\n",
    "import json\n",
    "import pickle\n",
    "import numpy as np\n",
    "from functools import lru_cache"
   ]
  },
  {
   "cell_type": "code",
   "execution_count": 2,
   "metadata": {},
   "outputs": [],
   "source": [
    "from program_synthesis.analysis.load_results import *"
   ]
  },
  {
   "cell_type": "code",
   "execution_count": 3,
   "metadata": {},
   "outputs": [],
   "source": [
    "things = dict(\n",
    "    b32s25 = \"~/nearai2/reports/report-karel-lgrl-ref-1597216250.json\",\n",
    "    b64s25 = \"~/nearai2/reports/report-karel-lgrl-ref-1597214305.json\",\n",
    "    b32s100 = \"~/nearai2/reports/report-karel-lgrl-ref-1597219437.json\",\n",
    "    b64s100 = \"~/nearai2/reports/report-karel-lgrl-ref-1597225355.json\"\n",
    ")"
   ]
  },
  {
   "cell_type": "code",
   "execution_count": 11,
   "metadata": {},
   "outputs": [
    {
     "name": "stdout",
     "output_type": "stream",
     "text": [
      "b32s25 {'total': 443, 'correct': 134, 'syntax-error': 0, 'runtime-exception': 16, 'done': True} {'exact': 15, 'total': 443}\n",
      "b64s25 {'total': 443, 'correct': 157, 'syntax-error': 0, 'runtime-exception': 15, 'done': True} {'exact': 18, 'total': 443}\n",
      "b32s100 {'total': 443, 'correct': 165, 'syntax-error': 0, 'runtime-exception': 11, 'done': True} {'exact': 20, 'total': 443}\n",
      "b64s100 {'total': 443, 'correct': 185, 'syntax-error': 0, 'runtime-exception': 11, 'done': True} {'exact': 21, 'total': 443}\n"
     ]
    }
   ],
   "source": [
    "for name, path in things.items():\n",
    "    path = expanduser(path)\n",
    "    print(name, json.loads(next(open(path))), get_exact_match(path))"
   ]
  },
  {
   "cell_type": "code",
   "execution_count": 5,
   "metadata": {},
   "outputs": [],
   "source": [
    "data = []\n",
    "with open(\"../data/karel/val.pkl\", \"rb\") as f:\n",
    "    try:\n",
    "        while True:\n",
    "            data.append(pickle.load(f, encoding='latin-1'))\n",
    "    except EOFError:\n",
    "        pass"
   ]
  },
  {
   "cell_type": "code",
   "execution_count": 6,
   "metadata": {},
   "outputs": [],
   "source": [
    "def error(b):\n",
    "    with open(expanduser(\"~/nearai2/baseline/nearai{}-val.json\".format(b))) as f:\n",
    "        result = json.load(f)\n",
    "    e = sum([r['output'] == d['code'] for r, d in zip(result, data)])\n",
    "    a = sum([q['is_correct'] for q in result])\n",
    "    return e, a"
   ]
  },
  {
   "cell_type": "code",
   "execution_count": 7,
   "metadata": {},
   "outputs": [
    {
     "name": "stdout",
     "output_type": "stream",
     "text": [
      "16 915 1890\n",
      "32 915 1950\n",
      "64 915 1994\n",
      "128 915 2029\n",
      "141 915 2037\n",
      "229 915 2059\n",
      "256 915 2061\n",
      "393 915 2075\n",
      "512 915 2089\n",
      "687 915 2102\n"
     ]
    }
   ],
   "source": [
    "for b in [16, 32, 64, 128, 141, 229, 256, 393, 512, 687]:\n",
    "    print(b, *error(b))"
   ]
  },
  {
   "cell_type": "code",
   "execution_count": null,
   "metadata": {},
   "outputs": [],
   "source": []
  }
 ],
 "metadata": {
  "kernelspec": {
   "display_name": "Python 3",
   "language": "python",
   "name": "python3"
  },
  "language_info": {
   "codemirror_mode": {
    "name": "ipython",
    "version": 3
   },
   "file_extension": ".py",
   "mimetype": "text/x-python",
   "name": "python",
   "nbconvert_exporter": "python",
   "pygments_lexer": "ipython3",
   "version": "3.6.10"
  }
 },
 "nbformat": 4,
 "nbformat_minor": 4
}
